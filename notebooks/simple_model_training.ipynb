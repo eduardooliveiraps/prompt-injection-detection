{
 "cells": [
  {
   "cell_type": "code",
   "execution_count": 10,
   "metadata": {},
   "outputs": [],
   "source": [
    "\n",
    "from sklearn.model_selection import GridSearchCV\n",
    "from sklearn.metrics import accuracy_score, classification_report\n",
    "from sklearn.pipeline import Pipeline\n",
    "from sklearn.preprocessing import StandardScaler\n",
    "\n",
    "import joblib\n",
    "\n",
    "import pandas as pd\n",
    "import lightgbm as lgb"
   ]
  },
  {
   "cell_type": "code",
   "execution_count": 3,
   "metadata": {},
   "outputs": [],
   "source": [
    "# read embedded text data\n",
    "\n",
    "test_df_with_embeddings = pd.read_parquet(\"data/40k__test_sampled_with_embeddings.parquet\")\n",
    "train_df_with_embeddings = pd.read_parquet(\"data/40k__train_sampled_with_embeddings.parquet\")"
   ]
  },
  {
   "cell_type": "code",
   "execution_count": 4,
   "metadata": {},
   "outputs": [
    {
     "name": "stdout",
     "output_type": "stream",
     "text": [
      "<class 'pandas.core.frame.DataFrame'>\n",
      "RangeIndex: 8000 entries, 0 to 7999\n",
      "Data columns (total 5 columns):\n",
      " #   Column          Non-Null Count  Dtype \n",
      "---  ------          --------------  ----- \n",
      " 0   id              8000 non-null   int64 \n",
      " 1   source          8000 non-null   object\n",
      " 2   text            8000 non-null   object\n",
      " 3   text_embedding  8000 non-null   object\n",
      " 4   label           8000 non-null   int64 \n",
      "dtypes: int64(2), object(3)\n",
      "memory usage: 312.6+ KB\n"
     ]
    }
   ],
   "source": [
    "test_df_with_embeddings.info()"
   ]
  },
  {
   "cell_type": "code",
   "execution_count": 5,
   "metadata": {},
   "outputs": [
    {
     "name": "stdout",
     "output_type": "stream",
     "text": [
      "<class 'pandas.core.frame.DataFrame'>\n",
      "RangeIndex: 32000 entries, 0 to 31999\n",
      "Data columns (total 5 columns):\n",
      " #   Column          Non-Null Count  Dtype \n",
      "---  ------          --------------  ----- \n",
      " 0   id              32000 non-null  int64 \n",
      " 1   source          32000 non-null  object\n",
      " 2   text            32000 non-null  object\n",
      " 3   text_embedding  32000 non-null  object\n",
      " 4   label           32000 non-null  int64 \n",
      "dtypes: int64(2), object(3)\n",
      "memory usage: 1.2+ MB\n"
     ]
    }
   ],
   "source": [
    "train_df_with_embeddings.info()\n"
   ]
  },
  {
   "cell_type": "code",
   "execution_count": 6,
   "metadata": {},
   "outputs": [
    {
     "data": {
      "image/png": "[encoded data removed]",
      "text/plain": [
       "<Figure size 640x480 with 1 Axes>"
      ]
     },
     "metadata": {},
     "output_type": "display_data"
    }
   ],
   "source": [
    "import matplotlib.pyplot as plt\n",
    "\n",
    "plt.hist([len(text) for text in test_df_with_embeddings[\"text_embedding\"]], bins=50)\n",
    "plt.show()"
   ]
  },
  {
   "cell_type": "code",
   "execution_count": 7,
   "metadata": {},
   "outputs": [
    {
     "name": "stdout",
     "output_type": "stream",
     "text": [
      "<class 'pandas.core.frame.DataFrame'>\n",
      "RangeIndex: 32000 entries, 0 to 31999\n",
      "Data columns (total 5 columns):\n",
      " #   Column          Non-Null Count  Dtype \n",
      "---  ------          --------------  ----- \n",
      " 0   id              32000 non-null  int64 \n",
      " 1   source          32000 non-null  object\n",
      " 2   text            32000 non-null  object\n",
      " 3   text_embedding  32000 non-null  object\n",
      " 4   label           32000 non-null  int64 \n",
      "dtypes: int64(2), object(3)\n",
      "memory usage: 1.2+ MB\n"
     ]
    }
   ],
   "source": [
    "train_df_with_embeddings.info()"
   ]
  },
  {
   "cell_type": "code",
   "execution_count": 8,
   "metadata": {},
   "outputs": [],
   "source": [
    "# prepare the data for training\n",
    "train_X = train_df_with_embeddings[\"text_embedding\"].to_list()\n",
    "test_X = test_df_with_embeddings[\"text_embedding\"].to_list()\n",
    "\n",
    "train_Y = train_df_with_embeddings[\"label\"].to_list()\n",
    "test_Y = test_df_with_embeddings[\"label\"].to_list()\n",
    "\n",
    "train_ids = train_df_with_embeddings[\"id\"].to_list()\n",
    "test_ids = test_df_with_embeddings[\"id\"].to_list()\n"
   ]
  },
  {
   "cell_type": "code",
   "execution_count": 9,
   "metadata": {},
   "outputs": [],
   "source": [
    "# train with lgbm classifier\n",
    "\n",
    "lgb_model = Pipeline(\n",
    "    [\n",
    "        (\"scaler\", StandardScaler()),  # Standardize the embeddings\n",
    "        (\"classifier\", lgb.LGBMClassifier()),  # LightGBM classifier\n",
    "    ]\n",
    ")\n",
    "\n",
    "# Define the parameter grid\n",
    "param_grid = {\n",
    "    \"classifier__num_leaves\": [31, 63, 127, 255],  # Lower values for simpler models\n",
    "    \"classifier__learning_rate\": [0.05],  # Range from conservative to standard rates\n",
    "    \"classifier__n_estimators\": [200],  # Number of boosting rounds\n",
    "    \"classifier__max_depth\": [-1, 10, 20],  # -1 means no limit; otherwise fixed depth\n",
    "}\n",
    "\n",
    "\n",
    "# intialize lgm grid search\n",
    "lgb_grid = GridSearchCV(\n",
    "    estimator=lgb_model,\n",
    "    param_grid=param_grid,\n",
    "    scoring=\"recall\",  # Use 'roc_auc' or other metrics if appropriate for the task\n",
    "    cv=3,  # 3-fold cross-validation to reduce computation time\n",
    "    n_jobs=-1,  # Use all available CPU cores\n",
    "    verbose=3,  # To monitor progress\n",
    ")\n",
    "\n"
   ]
  },
  {
   "cell_type": "code",
   "execution_count": null,
   "metadata": {},
   "outputs": [],
   "source": [
    "# Fit the grid search to the data (assuming X_train and y_train are defined)\n",
    "lgb_grid.fit(train_X, train_Y)"
   ]
  },
  {
   "cell_type": "code",
   "execution_count": null,
   "metadata": {},
   "outputs": [],
   "source": [
    "# Print the best parameters and best score\n",
    "print(\"Best parameters found: \", lgb_grid.best_params_)\n",
    "print(\"Best cross-validation accuracy: \", lgb_grid.best_score_)"
   ]
  },
  {
   "cell_type": "code",
   "execution_count": null,
   "metadata": {},
   "outputs": [],
   "source": [
    "# evaluate the model\n",
    "\n",
    "best_lgb_model = lgb_grid.best_estimator_\n",
    "\n",
    "# Predict and evaluate on the test set\n",
    "y_pred = best_lgb_model.predict(test_X)\n",
    "\n",
    "print(\"Test Accuracy:\", accuracy_score(test_Y, y_pred))\n",
    "\n",
    "report = classification_report(test_Y, y_pred)\n",
    "print(\"Classification Report:\\n\", report)"
   ]
  },
  {
   "cell_type": "code",
   "execution_count": null,
   "metadata": {},
   "outputs": [],
   "source": [
    "joblib.dump(best_lgb_model, \"models/best_lgb_model_40k_sample.joblib\")\n"
   ]
  },
  {
   "cell_type": "code",
   "execution_count": null,
   "metadata": {},
   "outputs": [],
   "source": [
    "\n",
    "# train on random forest classifier\n",
    "from sklearn.ensemble import RandomForestClassifier\n",
    "\n",
    "rf_model = Pipeline(\n",
    "    [\n",
    "        (\"scaler\", StandardScaler()),  # Standardize the embeddings\n",
    "        (\n",
    "            \"classifier\",\n",
    "            RandomForestClassifier(n_estimators=100, random_state=42),\n",
    "        ),  # Random Forest classifier\n",
    "    ]\n",
    ")\n",
    "rf_model.fit(train_X, train_Y)"
   ]
  },
  {
   "cell_type": "code",
   "execution_count": null,
   "metadata": {},
   "outputs": [],
   "source": [
    "y_pred_rf = rf_model.predict(test_X)\n",
    "\n",
    "print(\"Test Accuracy:\", accuracy_score(test_Y, y_pred_rf))\n",
    "report = classification_report(test_Y, y_pred)\n",
    "print(\"Classification Report:\\n\", report)\n"
   ]
  }
 ],
 "metadata": {
  "kernelspec": {
   "display_name": "llm_guard",
   "language": "python",
   "name": "python3"
  },
  "language_info": {
   "codemirror_mode": {
    "name": "ipython",
    "version": 3
   },
   "file_extension": ".py",
   "mimetype": "text/x-python",
   "name": "python",
   "nbconvert_exporter": "python",
   "pygments_lexer": "ipython3",
   "version": "3.11.10"
  }
 },
 "nbformat": 4,
 "nbformat_minor": 2
}
